{
 "cells": [
  {
   "cell_type": "code",
   "execution_count": 1,
   "metadata": {},
   "outputs": [],
   "source": [
    "from ezc3d import c3d\n",
    "\n",
    "c = c3d(\"/home/hudson/Rats_Python/ViconData/Walk05.c3d\")"
   ]
  },
  {
   "cell_type": "code",
   "execution_count": 8,
   "metadata": {},
   "outputs": [
    {
     "name": "stdout",
     "output_type": "stream",
     "text": [
      "dict_keys(['header', 'parameters', 'data'])\n"
     ]
    }
   ],
   "source": [
    "# Top Level\n",
    "print(c.keys())\n",
    "data : c3d.Data = c[\"data\"]\n",
    "parameters : c3d.Parameter = c[\"parameters\"]\n",
    "header : c3d.Header = c[\"header\"] "
   ]
  },
  {
   "cell_type": "code",
   "execution_count": 13,
   "metadata": {},
   "outputs": [
    {
     "name": "stdout",
     "output_type": "stream",
     "text": [
      "dict_keys(['TRIAL', 'SUBJECTS', 'POINT', 'ANALOG', 'FORCE_PLATFORM', 'EVENT_CONTEXT', 'EVENT', 'MANUFACTURER', 'ANALYSIS', 'PROCESSING'])\n"
     ]
    }
   ],
   "source": [
    "# Parameters\n",
    "print(parameters.keys())\n",
    "trial = parameters[\"TRIAL\"]\n",
    "subjects = parameters[\"SUBJECTS\"]\n",
    "point = parameters[\"POINT\"]\n",
    "analog = parameters[\"ANALOG\"]\n",
    "force_platform = parameters[\"FORCE_PLATFORM\"]\n",
    "event_context = parameters[\"EVENT_CONTEXT\"]\n",
    "event = parameters[\"EVENT\"]\n",
    "manufacturer = parameters[\"MANUFACTURER\"]\n",
    "analysis = parameters[\"ANALYSIS\"]\n",
    "processing = parameters[\"PROCESSING\"]\n"
   ]
  },
  {
   "cell_type": "code",
   "execution_count": 15,
   "metadata": {},
   "outputs": [
    {
     "name": "stdout",
     "output_type": "stream",
     "text": [
      "dict_keys(['points', 'analogs', 'rotations', 'events'])\n"
     ]
    }
   ],
   "source": [
    "# Header\n",
    "print(header.keys())\n",
    "points = header[\"points\"]\n",
    "analogs = header[\"analogs\"]\n",
    "rotations = header[\"rotations\"]\n",
    "events = header[\"events\"]\n",
    "print(events)"
   ]
  }
 ],
 "metadata": {
  "kernelspec": {
   "display_name": "mamp-python",
   "language": "python",
   "name": "python3"
  },
  "language_info": {
   "codemirror_mode": {
    "name": "ipython",
    "version": 3
   },
   "file_extension": ".py",
   "mimetype": "text/x-python",
   "name": "python",
   "nbconvert_exporter": "python",
   "pygments_lexer": "ipython3",
   "version": "3.11.6"
  }
 },
 "nbformat": 4,
 "nbformat_minor": 2
}
