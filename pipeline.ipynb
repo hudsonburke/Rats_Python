{
 "cells": [
  {
   "cell_type": "code",
   "execution_count": null,
   "id": "cde566a6",
   "metadata": {},
   "outputs": [],
   "source": [
    "\n",
    "from ..Toolbox_Python.utils import c3d_scan_gen\n",
    "from rat_trial import RatTrial\n",
    "\n",
    "\n",
    "c3d_dir = '/home/hudson/Downloads/TestDB'\n",
    "\n",
    "\n",
    "for c3d_file in c3d_scan_gen(c3d_dir):\n",
    "    trial = RatTrial.from_c3d_file(c3d_file)\n",
    "    if not trial.validate_trial():\n",
    "        continue\n",
    "    # If static\n",
    "    if trial.trial_type == 'Static':\n",
    "        # TRC\n",
    "        trial.to_trc()\n",
    "        # Scale model\n",
    "        trial.scale_model()\n",
    "    # Else\n",
    "    else:\n",
    "        # IK\n",
    "        trial.inverse_kinematics()\n",
    "        # ID\n",
    "        trial.inverse_dynamics()\n",
    "\n"
   ]
  }
 ],
 "metadata": {
  "language_info": {
   "name": "python"
  }
 },
 "nbformat": 4,
 "nbformat_minor": 5
}
