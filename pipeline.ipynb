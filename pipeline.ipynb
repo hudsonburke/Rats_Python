{
 "cells": [
  {
   "cell_type": "code",
   "execution_count": null,
   "id": "cde566a6",
   "metadata": {},
   "outputs": [
    {
     "name": "stderr",
     "output_type": "stream",
     "text": [
      "\u001b[32m2025-06-09 06:56:03.456\u001b[0m | \u001b[1mINFO    \u001b[0m | \u001b[36mrat_trial\u001b[0m:\u001b[36mvalid_static\u001b[0m:\u001b[36m69\u001b[0m - \u001b[1mTrial Static01 is a valid static trial\u001b[0m\n"
     ]
    },
    {
     "name": "stdout",
     "output_type": "stream",
     "text": [
      "Found 203 C3D files.\n",
      "Processing BAA/['BAA01']/Baseline/Static01...\n"
     ]
    },
    {
     "ename": "TypeError",
     "evalue": "Trial.to_trc() missing 1 required positional argument: 'filepath'",
     "output_type": "error",
     "traceback": [
      "\u001b[0;31m---------------------------------------------------------------------------\u001b[0m",
      "\u001b[0;31mTypeError\u001b[0m                                 Traceback (most recent call last)",
      "Cell \u001b[0;32mIn[1], line 24\u001b[0m\n\u001b[1;32m     22\u001b[0m     \u001b[38;5;28;01mcontinue\u001b[39;00m\n\u001b[1;32m     23\u001b[0m \u001b[38;5;28mprint\u001b[39m(\u001b[38;5;124mf\u001b[39m\u001b[38;5;124m'\u001b[39m\u001b[38;5;124mProcessing \u001b[39m\u001b[38;5;132;01m{\u001b[39;00mtrial\u001b[38;5;241m.\u001b[39mclassification\u001b[38;5;132;01m}\u001b[39;00m\u001b[38;5;124m/\u001b[39m\u001b[38;5;132;01m{\u001b[39;00mtrial\u001b[38;5;241m.\u001b[39msubject_names\u001b[38;5;132;01m}\u001b[39;00m\u001b[38;5;124m/\u001b[39m\u001b[38;5;132;01m{\u001b[39;00mtrial\u001b[38;5;241m.\u001b[39msession_name\u001b[38;5;132;01m}\u001b[39;00m\u001b[38;5;124m/\u001b[39m\u001b[38;5;132;01m{\u001b[39;00mtrial\u001b[38;5;241m.\u001b[39mname\u001b[38;5;132;01m}\u001b[39;00m\u001b[38;5;124m...\u001b[39m\u001b[38;5;124m'\u001b[39m)\n\u001b[0;32m---> 24\u001b[0m trc_file \u001b[38;5;241m=\u001b[39m \u001b[43mtrial\u001b[49m\u001b[38;5;241;43m.\u001b[39;49m\u001b[43mto_trc\u001b[49m\u001b[43m(\u001b[49m\u001b[43m)\u001b[49m\n\u001b[1;32m     25\u001b[0m \u001b[38;5;66;03m# If static\u001b[39;00m\n\u001b[1;32m     26\u001b[0m \u001b[38;5;28;01mif\u001b[39;00m trial\u001b[38;5;241m.\u001b[39mtrial_type \u001b[38;5;241m==\u001b[39m \u001b[38;5;124m'\u001b[39m\u001b[38;5;124mStatic\u001b[39m\u001b[38;5;124m'\u001b[39m:\n\u001b[1;32m     27\u001b[0m     \u001b[38;5;66;03m# Scale model\u001b[39;00m\n",
      "\u001b[0;31mTypeError\u001b[0m: Trial.to_trc() missing 1 required positional argument: 'filepath'"
     ]
    }
   ],
   "source": [
    "from rat_trial import RatTrial\n",
    "from utils import c3d_scan\n",
    "\n",
    "\n",
    "c3d_dir = '/home/hudson/Downloads/TestDB'\n",
    "unscaled_model = '/home/hudson/Rats_Python/opensim/Bilateral/FinalBilateral.osim'\n",
    "marker_set = '/home/hudson/Rats_Python/opensim/Bilateral/bilateral_rodent_hindlimb_markerSet.xml'\n",
    "ik_setup = '/home/hudson/Rats_Python/opensim/Bilateral/generic_Rat_Setup_IK.xml'\n",
    "trc_filter_cutoff = 15 # Hz\n",
    "ik_filter_cutoff = 15 # Hz\n",
    "\n",
    "output_dir = '/home/hudson/Downloads/TestOut'\n",
    "\n",
    "## Need to make sure that model gets scaled first before doing anything else\n",
    "# Sorting alphabetically makes sure that directories are done together and static trial is first\n",
    "c3d_files = sorted(c3d_scan(c3d_dir)) \n",
    "print(f'Found {len(c3d_files)} C3D files.')\n",
    "model_file = None\n",
    "for c3d_file in c3d_files:\n",
    "    trial = RatTrial.from_c3d_file(c3d_file)\n",
    "\n",
    "    if not trial.validate_trial():\n",
    "        continue\n",
    "    print(f'Processing {trial.classification}/{trial.subject_names}/{trial.session_name}/{trial.name}...')\n",
    "    trc_file = trial.to_trc()\n",
    "    # If static\n",
    "    if trial.trial_type == 'Static':\n",
    "        # Scale model\n",
    "        model_file = trial.create_scaled_model()\n",
    "    # Else\n",
    "    else:\n",
    "        # IK - filter TRC data\n",
    "        trial.inverse_kinematics()\n",
    "        # ID\n",
    "        trial.inverse_dynamics()"
   ]
  },
  {
   "cell_type": "code",
   "execution_count": null,
   "id": "2f45ef88",
   "metadata": {},
   "outputs": [],
   "source": [
    "# Define groups\n",
    "NR = []\n",
    "TEMR = []\n",
    "HH = []\n",
    "TEMR_HH = []\n",
    "KG = []\n",
    "HS = []\n",
    "TEMR_KG = []\n",
    "\n",
    "\n",
    "\n"
   ]
  }
 ],
 "metadata": {
  "kernelspec": {
   "display_name": "mamp-python",
   "language": "python",
   "name": "python3"
  },
  "language_info": {
   "codemirror_mode": {
    "name": "ipython",
    "version": 3
   },
   "file_extension": ".py",
   "mimetype": "text/x-python",
   "name": "python",
   "nbconvert_exporter": "python",
   "pygments_lexer": "ipython3",
   "version": "3.11.6"
  }
 },
 "nbformat": 4,
 "nbformat_minor": 5
}
