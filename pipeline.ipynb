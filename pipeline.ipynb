{
 "cells": [
  {
   "cell_type": "code",
   "execution_count": 1,
   "id": "cde566a6",
   "metadata": {},
   "outputs": [
    {
     "name": "stderr",
     "output_type": "stream",
     "text": [
      "\u001b[32m2025-06-09 16:29:54.196\u001b[0m | \u001b[1mINFO    \u001b[0m | \u001b[36mrat_trial\u001b[0m:\u001b[36mvalid_static\u001b[0m:\u001b[36m65\u001b[0m - \u001b[1mTrial Static01 is a valid static trial\u001b[0m\n"
     ]
    },
    {
     "name": "stdout",
     "output_type": "stream",
     "text": [
      "Found 203 C3D files.\n",
      "Processing BAA/['BAA01']/Baseline/Static01...\n"
     ]
    },
    {
     "name": "stderr",
     "output_type": "stream",
     "text": [
      "\u001b[32m2025-06-09 16:29:54.349\u001b[0m | \u001b[1mINFO    \u001b[0m | \u001b[36mrat_trial\u001b[0m:\u001b[36mvalid_static\u001b[0m:\u001b[36m65\u001b[0m - \u001b[1mTrial Static02 is a valid static trial\u001b[0m\n"
     ]
    },
    {
     "name": "stdout",
     "output_type": "stream",
     "text": [
      "Processing BAA/['BAA01']/Baseline/Static02...\n"
     ]
    },
    {
     "name": "stderr",
     "output_type": "stream",
     "text": [
      "\u001b[32m2025-06-09 16:29:54.702\u001b[0m | \u001b[1mINFO    \u001b[0m | \u001b[36mrat_trial\u001b[0m:\u001b[36mvalid_walk\u001b[0m:\u001b[36m85\u001b[0m - \u001b[1mTrial Walk01 has 0 events, expected 7\u001b[0m\n",
      "\u001b[32m2025-06-09 16:29:54.961\u001b[0m | \u001b[1mINFO    \u001b[0m | \u001b[36mrat_trial\u001b[0m:\u001b[36mvalid_walk\u001b[0m:\u001b[36m85\u001b[0m - \u001b[1mTrial Walk03 has 0 events, expected 7\u001b[0m\n"
     ]
    },
    {
     "name": "stdout",
     "output_type": "stream",
     "text": [
      "Processing BAA/['BAA01']/Baseline/Walk05...\n",
      "Processing BAA/['BAA01']/Baseline/Walk06...\n",
      "Processing BAA/['BAA01']/Baseline/Walk08...\n",
      "Processing BAA/['BAA01']/Baseline/Walk09...\n",
      "Processing BAA/['BAA01']/Baseline/Walk11...\n",
      "Processing BAA/['BAA01']/Baseline/Walk12...\n"
     ]
    },
    {
     "name": "stderr",
     "output_type": "stream",
     "text": [
      "\u001b[32m2025-06-09 16:29:56.578\u001b[0m | \u001b[1mINFO    \u001b[0m | \u001b[36mrat_trial\u001b[0m:\u001b[36mvalid_walk\u001b[0m:\u001b[36m85\u001b[0m - \u001b[1mTrial Walk13 has 0 events, expected 7\u001b[0m\n"
     ]
    },
    {
     "name": "stdout",
     "output_type": "stream",
     "text": [
      "Processing BAA/['BAA01']/Baseline/Walk14...\n"
     ]
    },
    {
     "name": "stderr",
     "output_type": "stream",
     "text": [
      "\u001b[32m2025-06-09 16:29:57.291\u001b[0m | \u001b[1mINFO    \u001b[0m | \u001b[36mrat_trial\u001b[0m:\u001b[36mvalid_static\u001b[0m:\u001b[36m65\u001b[0m - \u001b[1mTrial Static02 is a valid static trial\u001b[0m\n"
     ]
    },
    {
     "name": "stdout",
     "output_type": "stream",
     "text": [
      "Processing BAA/['BAA01']/Baseline/Walk15...\n",
      "Processing BAA/['BAA01']/Week04/Static02...\n"
     ]
    },
    {
     "name": "stderr",
     "output_type": "stream",
     "text": [
      "\u001b[32m2025-06-09 16:29:57.580\u001b[0m | \u001b[1mINFO    \u001b[0m | \u001b[36mrat_trial\u001b[0m:\u001b[36mvalid_walk\u001b[0m:\u001b[36m101\u001b[0m - \u001b[1mTrial Walk03 has events out of order or with incorrect context/label\u001b[0m\n"
     ]
    },
    {
     "name": "stdout",
     "output_type": "stream",
     "text": [
      "Processing BAA/['BAA01']/Week04/Walk04...\n",
      "Processing BAA/['BAA01']/Week04/Walk06...\n",
      "Processing BAA/['BAA01']/Week04/Walk07...\n",
      "Processing BAA/['BAA01']/Week04/Walk08...\n"
     ]
    },
    {
     "name": "stderr",
     "output_type": "stream",
     "text": [
      "\u001b[32m2025-06-09 16:29:58.253\u001b[0m | \u001b[1mINFO    \u001b[0m | \u001b[36mrat_trial\u001b[0m:\u001b[36mvalid_walk\u001b[0m:\u001b[36m101\u001b[0m - \u001b[1mTrial Walk10 has events out of order or with incorrect context/label\u001b[0m\n"
     ]
    },
    {
     "name": "stdout",
     "output_type": "stream",
     "text": [
      "Processing BAA/['BAA01']/Week04/Walk11...\n"
     ]
    },
    {
     "name": "stderr",
     "output_type": "stream",
     "text": [
      "\u001b[32m2025-06-09 16:29:58.736\u001b[0m | \u001b[1mINFO    \u001b[0m | \u001b[36mrat_trial\u001b[0m:\u001b[36mvalid_static\u001b[0m:\u001b[36m65\u001b[0m - \u001b[1mTrial Static03 is a valid static trial\u001b[0m\n"
     ]
    },
    {
     "name": "stdout",
     "output_type": "stream",
     "text": [
      "Processing BAA/['BAA01']/Week04/Walk12...\n",
      "Processing BAA/['BAA01']/Week08/Static03...\n",
      "Processing BAA/['BAA01']/Week08/Walk02...\n",
      "Processing BAA/['BAA01']/Week08/Walk04...\n",
      "Processing BAA/['BAA01']/Week08/Walk05...\n",
      "Processing BAA/['BAA01']/Week08/Walk07...\n"
     ]
    },
    {
     "name": "stderr",
     "output_type": "stream",
     "text": [
      "\u001b[32m2025-06-09 16:29:59.712\u001b[0m | \u001b[1mINFO    \u001b[0m | \u001b[36mrat_trial\u001b[0m:\u001b[36mvalid_static\u001b[0m:\u001b[36m65\u001b[0m - \u001b[1mTrial Static01 is a valid static trial\u001b[0m\n"
     ]
    },
    {
     "name": "stdout",
     "output_type": "stream",
     "text": [
      "Processing BAA/['BAA01']/Week08/Walk08...\n",
      "Processing BAA/['BAA01']/Week08/Walk10...\n",
      "Processing BAA/['BAA01']/Week12/Static01...\n",
      "Processing BAA/['BAA01']/Week12/Walk02...\n"
     ]
    },
    {
     "name": "stderr",
     "output_type": "stream",
     "text": [
      "\u001b[32m2025-06-09 16:30:00.656\u001b[0m | \u001b[1mINFO    \u001b[0m | \u001b[36mrat_trial\u001b[0m:\u001b[36mvalid_walk\u001b[0m:\u001b[36m85\u001b[0m - \u001b[1mTrial Walk04 has 0 events, expected 7\u001b[0m\n",
      "\u001b[32m2025-06-09 16:30:00.820\u001b[0m | \u001b[1mINFO    \u001b[0m | \u001b[36mrat_trial\u001b[0m:\u001b[36mvalid_walk\u001b[0m:\u001b[36m85\u001b[0m - \u001b[1mTrial Walk05 has 0 events, expected 7\u001b[0m\n"
     ]
    },
    {
     "name": "stdout",
     "output_type": "stream",
     "text": [
      "Processing BAA/['BAA01']/Week12/Walk06...\n",
      "Processing BAA/['BAA01']/Week12/Walk07...\n"
     ]
    },
    {
     "name": "stderr",
     "output_type": "stream",
     "text": [
      "\u001b[32m2025-06-09 16:30:01.691\u001b[0m | \u001b[1mINFO    \u001b[0m | \u001b[36mrat_trial\u001b[0m:\u001b[36mvalid_walk\u001b[0m:\u001b[36m101\u001b[0m - \u001b[1mTrial Walk09 has events out of order or with incorrect context/label\u001b[0m\n"
     ]
    },
    {
     "name": "stdout",
     "output_type": "stream",
     "text": [
      "Processing BAA/['BAA01']/Week12/Walk08...\n"
     ]
    },
    {
     "name": "stderr",
     "output_type": "stream",
     "text": [
      "\u001b[32m2025-06-09 16:30:02.070\u001b[0m | \u001b[1mINFO    \u001b[0m | \u001b[36mrat_trial\u001b[0m:\u001b[36mvalid_walk\u001b[0m:\u001b[36m101\u001b[0m - \u001b[1mTrial Walk11 has events out of order or with incorrect context/label\u001b[0m\n",
      "\u001b[32m2025-06-09 16:30:02.113\u001b[0m | \u001b[1mINFO    \u001b[0m | \u001b[36mrat_trial\u001b[0m:\u001b[36mvalid_walk\u001b[0m:\u001b[36m101\u001b[0m - \u001b[1mTrial Walk12 has events out of order or with incorrect context/label\u001b[0m\n"
     ]
    },
    {
     "name": "stdout",
     "output_type": "stream",
     "text": [
      "Processing BAA/['BAA01']/Week12/Walk10...\n"
     ]
    },
    {
     "name": "stderr",
     "output_type": "stream",
     "text": [
      "\u001b[32m2025-06-09 16:30:02.373\u001b[0m | \u001b[1mINFO    \u001b[0m | \u001b[36mrat_trial\u001b[0m:\u001b[36mvalid_walk\u001b[0m:\u001b[36m85\u001b[0m - \u001b[1mTrial Walk13 has 0 events, expected 7\u001b[0m\n",
      "\u001b[32m2025-06-09 16:30:02.542\u001b[0m | \u001b[1mINFO    \u001b[0m | \u001b[36mrat_trial\u001b[0m:\u001b[36mvalid_walk\u001b[0m:\u001b[36m85\u001b[0m - \u001b[1mTrial Walk14 has 3 events, expected 7\u001b[0m\n",
      "\u001b[32m2025-06-09 16:30:02.775\u001b[0m | \u001b[1mINFO    \u001b[0m | \u001b[36mrat_trial\u001b[0m:\u001b[36mvalid_walk\u001b[0m:\u001b[36m85\u001b[0m - \u001b[1mTrial Walk15 has 0 events, expected 7\u001b[0m\n",
      "\u001b[32m2025-06-09 16:30:02.817\u001b[0m | \u001b[1mINFO    \u001b[0m | \u001b[36mrat_trial\u001b[0m:\u001b[36mvalid_static\u001b[0m:\u001b[36m65\u001b[0m - \u001b[1mTrial Static01 is a valid static trial\u001b[0m\n"
     ]
    },
    {
     "name": "stdout",
     "output_type": "stream",
     "text": [
      "Processing BAA/['BAA01']/Week18/Static01...\n",
      "Processing BAA/['BAA01']/Week18/Walk02...\n"
     ]
    },
    {
     "name": "stderr",
     "output_type": "stream",
     "text": [
      "\u001b[32m2025-06-09 16:30:03.357\u001b[0m | \u001b[1mINFO    \u001b[0m | \u001b[36mrat_trial\u001b[0m:\u001b[36mvalid_walk\u001b[0m:\u001b[36m85\u001b[0m - \u001b[1mTrial Walk03 has 0 events, expected 7\u001b[0m\n",
      "\u001b[32m2025-06-09 16:30:03.453\u001b[0m | \u001b[1mINFO    \u001b[0m | \u001b[36mrat_trial\u001b[0m:\u001b[36mvalid_walk\u001b[0m:\u001b[36m85\u001b[0m - \u001b[1mTrial Walk04 has 0 events, expected 7\u001b[0m\n"
     ]
    },
    {
     "name": "stdout",
     "output_type": "stream",
     "text": [
      "Processing BAA/['BAA01']/Week18/Walk05...\n",
      "Processing BAA/['BAA01']/Week18/Walk06...\n",
      "Processing BAA/['BAA01']/Week18/Walk07...\n",
      "Processing BAA/['BAA01']/Week18/Walk08...\n"
     ]
    },
    {
     "name": "stderr",
     "output_type": "stream",
     "text": [
      "\u001b[32m2025-06-09 16:30:04.529\u001b[0m | \u001b[1mINFO    \u001b[0m | \u001b[36mrat_trial\u001b[0m:\u001b[36mvalid_static\u001b[0m:\u001b[36m65\u001b[0m - \u001b[1mTrial Static01 is a valid static trial\u001b[0m\n"
     ]
    },
    {
     "name": "stdout",
     "output_type": "stream",
     "text": [
      "Processing BAA/['BAA01']/Week18/Walk09...\n",
      "Processing BAA/['BAA01']/Week18/Walk11...\n",
      "Processing BAA/['BAA02']/Baseline/Static01...\n"
     ]
    },
    {
     "name": "stderr",
     "output_type": "stream",
     "text": [
      "\u001b[32m2025-06-09 16:30:05.662\u001b[0m | \u001b[1mINFO    \u001b[0m | \u001b[36mrat_trial\u001b[0m:\u001b[36mvalid_walk\u001b[0m:\u001b[36m85\u001b[0m - \u001b[1mTrial Walk01 has 0 events, expected 7\u001b[0m\n",
      "\u001b[32m2025-06-09 16:30:05.917\u001b[0m | \u001b[1mINFO    \u001b[0m | \u001b[36mrat_trial\u001b[0m:\u001b[36mvalid_walk\u001b[0m:\u001b[36m85\u001b[0m - \u001b[1mTrial Walk02 has 0 events, expected 7\u001b[0m\n",
      "\u001b[32m2025-06-09 16:30:06.556\u001b[0m | \u001b[1mINFO    \u001b[0m | \u001b[36mrat_trial\u001b[0m:\u001b[36mvalid_walk\u001b[0m:\u001b[36m85\u001b[0m - \u001b[1mTrial Walk03 has 0 events, expected 7\u001b[0m\n"
     ]
    },
    {
     "name": "stdout",
     "output_type": "stream",
     "text": [
      "Processing BAA/['BAA02']/Baseline/Walk04...\n",
      "Processing BAA/['BAA02']/Baseline/Walk05...\n"
     ]
    },
    {
     "name": "stderr",
     "output_type": "stream",
     "text": [
      "\u001b[32m2025-06-09 16:30:07.478\u001b[0m | \u001b[1mINFO    \u001b[0m | \u001b[36mrat_trial\u001b[0m:\u001b[36mvalid_walk\u001b[0m:\u001b[36m85\u001b[0m - \u001b[1mTrial Walk06 has 0 events, expected 7\u001b[0m\n",
      "\u001b[32m2025-06-09 16:30:07.758\u001b[0m | \u001b[1mINFO    \u001b[0m | \u001b[36mrat_trial\u001b[0m:\u001b[36mvalid_walk\u001b[0m:\u001b[36m85\u001b[0m - \u001b[1mTrial Walk07 has 0 events, expected 7\u001b[0m\n"
     ]
    },
    {
     "name": "stdout",
     "output_type": "stream",
     "text": [
      "Processing BAA/['BAA02']/Baseline/Walk08...\n"
     ]
    },
    {
     "name": "stderr",
     "output_type": "stream",
     "text": [
      "\u001b[32m2025-06-09 16:30:08.343\u001b[0m | \u001b[1mINFO    \u001b[0m | \u001b[36mrat_trial\u001b[0m:\u001b[36mvalid_walk\u001b[0m:\u001b[36m85\u001b[0m - \u001b[1mTrial Walk09 has 0 events, expected 7\u001b[0m\n"
     ]
    },
    {
     "name": "stdout",
     "output_type": "stream",
     "text": [
      "Processing BAA/['BAA02']/Baseline/Walk10...\n",
      "Processing BAA/['BAA02']/Baseline/Walk11...\n",
      "Processing BAA/['BAA02']/Baseline/Walk12...\n",
      "Processing BAA/['BAA02']/Baseline/Walk13...\n"
     ]
    },
    {
     "name": "stderr",
     "output_type": "stream",
     "text": [
      "\u001b[32m2025-06-09 16:30:09.600\u001b[0m | \u001b[1mINFO    \u001b[0m | \u001b[36mrat_trial\u001b[0m:\u001b[36mvalid_walk\u001b[0m:\u001b[36m85\u001b[0m - \u001b[1mTrial Walk14 has 0 events, expected 7\u001b[0m\n",
      "\u001b[32m2025-06-09 16:30:09.780\u001b[0m | \u001b[1mINFO    \u001b[0m | \u001b[36mrat_trial\u001b[0m:\u001b[36mvalid_static\u001b[0m:\u001b[36m65\u001b[0m - \u001b[1mTrial Static04 is a valid static trial\u001b[0m\n"
     ]
    },
    {
     "name": "stdout",
     "output_type": "stream",
     "text": [
      "Processing BAA/['BAA02']/Week04/Static04...\n",
      "Processing BAA/['BAA02']/Week04/Walk02...\n",
      "Processing BAA/['BAA02']/Week04/Walk03...\n",
      "Processing BAA/['BAA02']/Week04/Walk04...\n",
      "Processing BAA/['BAA02']/Week04/Walk05...\n",
      "Processing BAA/['BAA02']/Week04/Walk06...\n"
     ]
    },
    {
     "name": "stderr",
     "output_type": "stream",
     "text": [
      "\u001b[32m2025-06-09 16:30:11.483\u001b[0m | \u001b[1mINFO    \u001b[0m | \u001b[36mrat_trial\u001b[0m:\u001b[36mvalid_walk\u001b[0m:\u001b[36m101\u001b[0m - \u001b[1mTrial Walk07 has events out of order or with incorrect context/label\u001b[0m\n"
     ]
    },
    {
     "name": "stdout",
     "output_type": "stream",
     "text": [
      "Processing BAA/['BAA02']/Week04/Walk08...\n",
      "Processing BAA/['BAA02']/Week04/Walk10...\n"
     ]
    },
    {
     "name": "stderr",
     "output_type": "stream",
     "text": [
      "\u001b[32m2025-06-09 16:30:11.896\u001b[0m | \u001b[1mINFO    \u001b[0m | \u001b[36mrat_trial\u001b[0m:\u001b[36mvalid_static\u001b[0m:\u001b[36m65\u001b[0m - \u001b[1mTrial Static01 is a valid static trial\u001b[0m\n"
     ]
    },
    {
     "name": "stdout",
     "output_type": "stream",
     "text": [
      "Processing BAA/['BAA02']/Week08/Static01...\n",
      "Processing BAA/['BAA02']/Week08/Walk02...\n",
      "Processing BAA/['BAA02']/Week08/Walk03...\n",
      "Processing BAA/['BAA02']/Week08/Walk04...\n",
      "Processing BAA/['BAA02']/Week08/Walk05...\n",
      "Processing BAA/['BAA02']/Week08/Walk08...\n",
      "Processing BAA/['BAA02']/Week08/Walk10...\n"
     ]
    },
    {
     "name": "stderr",
     "output_type": "stream",
     "text": [
      "\u001b[32m2025-06-09 16:30:12.754\u001b[0m | \u001b[1mINFO    \u001b[0m | \u001b[36mrat_trial\u001b[0m:\u001b[36mvalid_static\u001b[0m:\u001b[36m65\u001b[0m - \u001b[1mTrial Static01 is a valid static trial\u001b[0m\n"
     ]
    },
    {
     "name": "stdout",
     "output_type": "stream",
     "text": [
      "Processing BAA/['BAA02']/Week12/Static01...\n"
     ]
    },
    {
     "name": "stderr",
     "output_type": "stream",
     "text": [
      "\u001b[32m2025-06-09 16:30:13.169\u001b[0m | \u001b[1mINFO    \u001b[0m | \u001b[36mrat_trial\u001b[0m:\u001b[36mvalid_walk\u001b[0m:\u001b[36m85\u001b[0m - \u001b[1mTrial Walk02 has 0 events, expected 7\u001b[0m\n"
     ]
    },
    {
     "name": "stdout",
     "output_type": "stream",
     "text": [
      "Processing BAA/['BAA02']/Week12/Walk01...\n"
     ]
    },
    {
     "name": "stderr",
     "output_type": "stream",
     "text": [
      "\u001b[32m2025-06-09 16:30:13.303\u001b[0m | \u001b[1mINFO    \u001b[0m | \u001b[36mrat_trial\u001b[0m:\u001b[36mvalid_walk\u001b[0m:\u001b[36m85\u001b[0m - \u001b[1mTrial Walk03 has 0 events, expected 7\u001b[0m\n"
     ]
    },
    {
     "name": "stdout",
     "output_type": "stream",
     "text": [
      "Processing BAA/['BAA02']/Week12/Walk04...\n",
      "Processing BAA/['BAA02']/Week12/Walk06...\n"
     ]
    },
    {
     "name": "stderr",
     "output_type": "stream",
     "text": [
      "\u001b[32m2025-06-09 16:30:13.710\u001b[0m | \u001b[1mINFO    \u001b[0m | \u001b[36mrat_trial\u001b[0m:\u001b[36mvalid_walk\u001b[0m:\u001b[36m85\u001b[0m - \u001b[1mTrial Walk08 has 0 events, expected 7\u001b[0m\n"
     ]
    },
    {
     "name": "stdout",
     "output_type": "stream",
     "text": [
      "Processing BAA/['BAA02']/Week12/Walk09...\n",
      "Processing BAA/['BAA02']/Week12/Walk10...\n",
      "Processing BAA/['BAA02']/Week12/Walk11...\n",
      "Processing BAA/['BAA02']/Week12/Walk12...\n"
     ]
    },
    {
     "name": "stderr",
     "output_type": "stream",
     "text": [
      "\u001b[32m2025-06-09 16:30:14.774\u001b[0m | \u001b[1mINFO    \u001b[0m | \u001b[36mrat_trial\u001b[0m:\u001b[36mvalid_walk\u001b[0m:\u001b[36m85\u001b[0m - \u001b[1mTrial Walk14 has 0 events, expected 7\u001b[0m\n"
     ]
    },
    {
     "name": "stdout",
     "output_type": "stream",
     "text": [
      "Processing BAA/['BAA02']/Week12/Walk13...\n",
      "Processing BAA/['BAA02']/Week12/Walk15...\n"
     ]
    },
    {
     "name": "stderr",
     "output_type": "stream",
     "text": [
      "\u001b[32m2025-06-09 16:30:15.447\u001b[0m | \u001b[1mINFO    \u001b[0m | \u001b[36mrat_trial\u001b[0m:\u001b[36mvalid_static\u001b[0m:\u001b[36m65\u001b[0m - \u001b[1mTrial Static01 is a valid static trial\u001b[0m\n"
     ]
    },
    {
     "name": "stdout",
     "output_type": "stream",
     "text": [
      "Processing BAA/['BAA02']/Week12/Walk16...\n",
      "Processing BAA/['BAA02']/Week12/Walk17...\n",
      "Processing BAA/['BAA02']/Week18/Static01...\n",
      "Processing BAA/['BAA02']/Week18/Walk01...\n",
      "Processing BAA/['BAA02']/Week18/Walk02...\n",
      "Processing BAA/['BAA02']/Week18/Walk03...\n",
      "Processing BAA/['BAA02']/Week18/Walk04...\n",
      "Processing BAA/['BAA02']/Week18/Walk05...\n",
      "Processing BAA/['BAA02']/Week18/Walk06...\n",
      "Processing BAA/['BAA02']/Week18/Walk07...\n"
     ]
    },
    {
     "name": "stderr",
     "output_type": "stream",
     "text": [
      "\u001b[32m2025-06-09 16:30:17.319\u001b[0m | \u001b[1mINFO    \u001b[0m | \u001b[36mrat_trial\u001b[0m:\u001b[36mvalid_walk\u001b[0m:\u001b[36m85\u001b[0m - \u001b[1mTrial Walk08 has 0 events, expected 7\u001b[0m\n",
      "\u001b[32m2025-06-09 16:30:17.457\u001b[0m | \u001b[1mINFO    \u001b[0m | \u001b[36mrat_trial\u001b[0m:\u001b[36mvalid_static\u001b[0m:\u001b[36m65\u001b[0m - \u001b[1mTrial Static01 is a valid static trial\u001b[0m\n",
      "\u001b[32m2025-06-09 16:30:17.589\u001b[0m | \u001b[1mINFO    \u001b[0m | \u001b[36mrat_trial\u001b[0m:\u001b[36mvalid_static\u001b[0m:\u001b[36m65\u001b[0m - \u001b[1mTrial Static02 is a valid static trial\u001b[0m\n"
     ]
    },
    {
     "name": "stdout",
     "output_type": "stream",
     "text": [
      "Processing BAA/['BAA03']/Baseline/Static01...\n",
      "Processing BAA/['BAA03']/Baseline/Static02...\n",
      "Processing BAA/['BAA03']/Baseline/Walk06...\n",
      "Processing BAA/['BAA03']/Baseline/Walk08...\n",
      "Processing BAA/['BAA03']/Baseline/Walk09...\n",
      "Processing BAA/['BAA03']/Baseline/Walk10...\n"
     ]
    },
    {
     "name": "stderr",
     "output_type": "stream",
     "text": [
      "\u001b[32m2025-06-09 16:30:20.847\u001b[0m | \u001b[1mINFO    \u001b[0m | \u001b[36mrat_trial\u001b[0m:\u001b[36mvalid_walk\u001b[0m:\u001b[36m85\u001b[0m - \u001b[1mTrial Walk12 has 0 events, expected 7\u001b[0m\n"
     ]
    },
    {
     "name": "stdout",
     "output_type": "stream",
     "text": [
      "Processing BAA/['BAA03']/Baseline/Walk11...\n"
     ]
    },
    {
     "name": "stderr",
     "output_type": "stream",
     "text": [
      "\u001b[32m2025-06-09 16:30:22.766\u001b[0m | \u001b[1mINFO    \u001b[0m | \u001b[36mrat_trial\u001b[0m:\u001b[36mvalid_walk\u001b[0m:\u001b[36m85\u001b[0m - \u001b[1mTrial Walk14 has 0 events, expected 7\u001b[0m\n",
      "\u001b[32m2025-06-09 16:30:23.537\u001b[0m | \u001b[1mINFO    \u001b[0m | \u001b[36mrat_trial\u001b[0m:\u001b[36mvalid_static\u001b[0m:\u001b[36m65\u001b[0m - \u001b[1mTrial Static01 is a valid static trial\u001b[0m\n"
     ]
    },
    {
     "name": "stdout",
     "output_type": "stream",
     "text": [
      "Processing BAA/['BAA03']/Baseline/Walk15...\n",
      "Processing BAA/['BAA03']/Week04/Static01...\n"
     ]
    },
    {
     "name": "stderr",
     "output_type": "stream",
     "text": [
      "\u001b[32m2025-06-09 16:30:23.686\u001b[0m | \u001b[1mINFO    \u001b[0m | \u001b[36mrat_trial\u001b[0m:\u001b[36mvalid_walk\u001b[0m:\u001b[36m101\u001b[0m - \u001b[1mTrial Walk01 has events out of order or with incorrect context/label\u001b[0m\n",
      "\u001b[32m2025-06-09 16:30:23.948\u001b[0m | \u001b[1mINFO    \u001b[0m | \u001b[36mrat_trial\u001b[0m:\u001b[36mvalid_walk\u001b[0m:\u001b[36m85\u001b[0m - \u001b[1mTrial Walk02 has 0 events, expected 7\u001b[0m\n",
      "\u001b[32m2025-06-09 16:30:24.307\u001b[0m | \u001b[1mINFO    \u001b[0m | \u001b[36mrat_trial\u001b[0m:\u001b[36mvalid_walk\u001b[0m:\u001b[36m101\u001b[0m - \u001b[1mTrial Walk03 has events out of order or with incorrect context/label\u001b[0m\n"
     ]
    },
    {
     "name": "stdout",
     "output_type": "stream",
     "text": [
      "Processing BAA/['BAA03']/Week04/Walk04...\n",
      "Processing BAA/['BAA03']/Week04/Walk05...\n"
     ]
    },
    {
     "name": "stderr",
     "output_type": "stream",
     "text": [
      "\u001b[32m2025-06-09 16:30:25.775\u001b[0m | \u001b[1mINFO    \u001b[0m | \u001b[36mrat_trial\u001b[0m:\u001b[36mvalid_walk\u001b[0m:\u001b[36m101\u001b[0m - \u001b[1mTrial Walk06 has events out of order or with incorrect context/label\u001b[0m\n",
      "\u001b[32m2025-06-09 16:30:26.267\u001b[0m | \u001b[1mINFO    \u001b[0m | \u001b[36mrat_trial\u001b[0m:\u001b[36mvalid_walk\u001b[0m:\u001b[36m101\u001b[0m - \u001b[1mTrial Walk07 has events out of order or with incorrect context/label\u001b[0m\n",
      "\u001b[32m2025-06-09 16:30:26.533\u001b[0m | \u001b[1mINFO    \u001b[0m | \u001b[36mrat_trial\u001b[0m:\u001b[36mvalid_walk\u001b[0m:\u001b[36m101\u001b[0m - \u001b[1mTrial Walk08 has events out of order or with incorrect context/label\u001b[0m\n",
      "\u001b[32m2025-06-09 16:30:26.784\u001b[0m | \u001b[1mINFO    \u001b[0m | \u001b[36mrat_trial\u001b[0m:\u001b[36mvalid_walk\u001b[0m:\u001b[36m101\u001b[0m - \u001b[1mTrial Walk09 has events out of order or with incorrect context/label\u001b[0m\n",
      "\u001b[32m2025-06-09 16:30:26.887\u001b[0m | \u001b[1mINFO    \u001b[0m | \u001b[36mrat_trial\u001b[0m:\u001b[36mvalid_static\u001b[0m:\u001b[36m65\u001b[0m - \u001b[1mTrial Static01 is a valid static trial\u001b[0m\n"
     ]
    },
    {
     "name": "stdout",
     "output_type": "stream",
     "text": [
      "Processing BAA/['BAA03']/Week08/Static01...\n",
      "Processing BAA/['BAA03']/Week08/Walk01...\n",
      "Processing BAA/['BAA03']/Week08/Walk02...\n"
     ]
    },
    {
     "name": "stderr",
     "output_type": "stream",
     "text": [
      "\u001b[32m2025-06-09 16:30:28.216\u001b[0m | \u001b[1mINFO    \u001b[0m | \u001b[36mrat_trial\u001b[0m:\u001b[36mvalid_walk\u001b[0m:\u001b[36m101\u001b[0m - \u001b[1mTrial Walk05 has events out of order or with incorrect context/label\u001b[0m\n"
     ]
    },
    {
     "name": "stdout",
     "output_type": "stream",
     "text": [
      "Processing BAA/['BAA03']/Week08/Walk04...\n"
     ]
    },
    {
     "name": "stderr",
     "output_type": "stream",
     "text": [
      "\u001b[32m2025-06-09 16:30:28.328\u001b[0m | \u001b[1mINFO    \u001b[0m | \u001b[36mrat_trial\u001b[0m:\u001b[36mvalid_walk\u001b[0m:\u001b[36m101\u001b[0m - \u001b[1mTrial Walk07 has events out of order or with incorrect context/label\u001b[0m\n",
      "\u001b[32m2025-06-09 16:30:28.536\u001b[0m | \u001b[1mINFO    \u001b[0m | \u001b[36mrat_trial\u001b[0m:\u001b[36mvalid_walk\u001b[0m:\u001b[36m101\u001b[0m - \u001b[1mTrial Walk09 has events out of order or with incorrect context/label\u001b[0m\n",
      "\u001b[32m2025-06-09 16:30:28.714\u001b[0m | \u001b[1mINFO    \u001b[0m | \u001b[36mrat_trial\u001b[0m:\u001b[36mvalid_walk\u001b[0m:\u001b[36m101\u001b[0m - \u001b[1mTrial Walk10 has events out of order or with incorrect context/label\u001b[0m\n",
      "\u001b[32m2025-06-09 16:30:28.770\u001b[0m | \u001b[1mINFO    \u001b[0m | \u001b[36mrat_trial\u001b[0m:\u001b[36mvalid_static\u001b[0m:\u001b[36m65\u001b[0m - \u001b[1mTrial Static01 is a valid static trial\u001b[0m\n",
      "\u001b[32m2025-06-09 16:30:28.919\u001b[0m | \u001b[1mINFO    \u001b[0m | \u001b[36mrat_trial\u001b[0m:\u001b[36mvalid_walk\u001b[0m:\u001b[36m85\u001b[0m - \u001b[1mTrial Walk01 has 3 events, expected 7\u001b[0m\n",
      "\u001b[32m2025-06-09 16:30:28.996\u001b[0m | \u001b[1mINFO    \u001b[0m | \u001b[36mrat_trial\u001b[0m:\u001b[36mvalid_walk\u001b[0m:\u001b[36m85\u001b[0m - \u001b[1mTrial Walk02 has 2 events, expected 7\u001b[0m\n"
     ]
    },
    {
     "name": "stdout",
     "output_type": "stream",
     "text": [
      "Processing BAA/['BAA03']/Week12/Static01...\n",
      "Processing BAA/['BAA03']/Week12/Walk03...\n",
      "Processing BAA/['BAA03']/Week12/Walk04...\n"
     ]
    },
    {
     "name": "stderr",
     "output_type": "stream",
     "text": [
      "\u001b[32m2025-06-09 16:30:29.700\u001b[0m | \u001b[1mINFO    \u001b[0m | \u001b[36mrat_trial\u001b[0m:\u001b[36mvalid_walk\u001b[0m:\u001b[36m101\u001b[0m - \u001b[1mTrial Walk05 has events out of order or with incorrect context/label\u001b[0m\n",
      "\u001b[32m2025-06-09 16:30:29.997\u001b[0m | \u001b[1mINFO    \u001b[0m | \u001b[36mrat_trial\u001b[0m:\u001b[36mvalid_walk\u001b[0m:\u001b[36m101\u001b[0m - \u001b[1mTrial Walk07 has events out of order or with incorrect context/label\u001b[0m\n"
     ]
    },
    {
     "name": "stdout",
     "output_type": "stream",
     "text": [
      "Processing BAA/['BAA03']/Week12/Walk06...\n"
     ]
    },
    {
     "name": "stderr",
     "output_type": "stream",
     "text": [
      "\u001b[32m2025-06-09 16:30:30.360\u001b[0m | \u001b[1mINFO    \u001b[0m | \u001b[36mrat_trial\u001b[0m:\u001b[36mvalid_walk\u001b[0m:\u001b[36m101\u001b[0m - \u001b[1mTrial Walk10 has events out of order or with incorrect context/label\u001b[0m\n"
     ]
    },
    {
     "name": "stdout",
     "output_type": "stream",
     "text": [
      "Processing BAA/['BAA03']/Week12/Walk08...\n"
     ]
    },
    {
     "name": "stderr",
     "output_type": "stream",
     "text": [
      "\u001b[32m2025-06-09 16:30:30.436\u001b[0m | \u001b[1mINFO    \u001b[0m | \u001b[36mrat_trial\u001b[0m:\u001b[36mvalid_static\u001b[0m:\u001b[36m65\u001b[0m - \u001b[1mTrial Static01 is a valid static trial\u001b[0m\n"
     ]
    },
    {
     "name": "stdout",
     "output_type": "stream",
     "text": [
      "Processing BAA/['BAA03']/Week18/Static01...\n",
      "Processing BAA/['BAA03']/Week18/Walk01...\n"
     ]
    },
    {
     "name": "stderr",
     "output_type": "stream",
     "text": [
      "\u001b[32m2025-06-09 16:30:30.783\u001b[0m | \u001b[1mINFO    \u001b[0m | \u001b[36mrat_trial\u001b[0m:\u001b[36mvalid_walk\u001b[0m:\u001b[36m85\u001b[0m - \u001b[1mTrial Walk02 has 0 events, expected 7\u001b[0m\n"
     ]
    },
    {
     "name": "stdout",
     "output_type": "stream",
     "text": [
      "Processing BAA/['BAA03']/Week18/Walk03...\n",
      "Processing BAA/['BAA03']/Week18/Walk04...\n"
     ]
    },
    {
     "name": "stderr",
     "output_type": "stream",
     "text": [
      "\u001b[32m2025-06-09 16:30:31.534\u001b[0m | \u001b[1mINFO    \u001b[0m | \u001b[36mrat_trial\u001b[0m:\u001b[36mvalid_walk\u001b[0m:\u001b[36m101\u001b[0m - \u001b[1mTrial Walk06 has events out of order or with incorrect context/label\u001b[0m\n"
     ]
    },
    {
     "name": "stdout",
     "output_type": "stream",
     "text": [
      "Processing BAA/['BAA03']/Week18/Walk05...\n"
     ]
    },
    {
     "name": "stderr",
     "output_type": "stream",
     "text": [
      "\u001b[32m2025-06-09 16:30:31.706\u001b[0m | \u001b[1mINFO    \u001b[0m | \u001b[36mrat_trial\u001b[0m:\u001b[36mvalid_walk\u001b[0m:\u001b[36m85\u001b[0m - \u001b[1mTrial Walk07 has 0 events, expected 7\u001b[0m\n",
      "\u001b[32m2025-06-09 16:30:32.032\u001b[0m | \u001b[1mINFO    \u001b[0m | \u001b[36mrat_trial\u001b[0m:\u001b[36mvalid_walk\u001b[0m:\u001b[36m85\u001b[0m - \u001b[1mTrial Walk09 has 0 events, expected 7\u001b[0m\n"
     ]
    },
    {
     "name": "stdout",
     "output_type": "stream",
     "text": [
      "Processing BAA/['BAA03']/Week18/Walk08...\n"
     ]
    },
    {
     "name": "stderr",
     "output_type": "stream",
     "text": [
      "\u001b[32m2025-06-09 16:30:32.191\u001b[0m | \u001b[1mINFO    \u001b[0m | \u001b[36mrat_trial\u001b[0m:\u001b[36mvalid_walk\u001b[0m:\u001b[36m85\u001b[0m - \u001b[1mTrial Walk10 has 0 events, expected 7\u001b[0m\n",
      "\u001b[32m2025-06-09 16:30:32.448\u001b[0m | \u001b[1mINFO    \u001b[0m | \u001b[36mrat_trial\u001b[0m:\u001b[36mvalid_static\u001b[0m:\u001b[36m65\u001b[0m - \u001b[1mTrial Static02 is a valid static trial\u001b[0m\n"
     ]
    },
    {
     "name": "stdout",
     "output_type": "stream",
     "text": [
      "Processing BAA/['BAA04']/Baseline/Static02...\n",
      "Processing BAA/['BAA04']/Baseline/Walk05...\n",
      "Processing BAA/['BAA04']/Baseline/Walk06...\n",
      "Processing BAA/['BAA04']/Baseline/Walk07...\n",
      "Processing BAA/['BAA04']/Baseline/Walk09...\n",
      "Processing BAA/['BAA04']/Baseline/Walk13...\n",
      "Processing BAA/['BAA04']/Baseline/Walk14...\n"
     ]
    },
    {
     "name": "stderr",
     "output_type": "stream",
     "text": [
      "\u001b[32m2025-06-09 16:30:35.608\u001b[0m | \u001b[1mINFO    \u001b[0m | \u001b[36mrat_trial\u001b[0m:\u001b[36mvalid_static\u001b[0m:\u001b[36m65\u001b[0m - \u001b[1mTrial Static02 is a valid static trial\u001b[0m\n"
     ]
    },
    {
     "name": "stdout",
     "output_type": "stream",
     "text": [
      "Processing BAA/['BAA04']/Baseline/Walk15...\n",
      "Processing BAA/['BAA04']/Week04/Static02...\n"
     ]
    },
    {
     "name": "stderr",
     "output_type": "stream",
     "text": [
      "\u001b[32m2025-06-09 16:30:35.839\u001b[0m | \u001b[1mINFO    \u001b[0m | \u001b[36mrat_trial\u001b[0m:\u001b[36mvalid_walk\u001b[0m:\u001b[36m85\u001b[0m - \u001b[1mTrial Walk01 has 0 events, expected 7\u001b[0m\n"
     ]
    },
    {
     "name": "stdout",
     "output_type": "stream",
     "text": [
      "Processing BAA/['BAA04']/Week04/Walk02...\n",
      "Processing BAA/['BAA04']/Week04/Walk03...\n",
      "Processing BAA/['BAA04']/Week04/Walk04...\n"
     ]
    },
    {
     "name": "stderr",
     "output_type": "stream",
     "text": [
      "\u001b[32m2025-06-09 16:30:37.798\u001b[0m | \u001b[1mINFO    \u001b[0m | \u001b[36mrat_trial\u001b[0m:\u001b[36mvalid_walk\u001b[0m:\u001b[36m101\u001b[0m - \u001b[1mTrial Walk06 has events out of order or with incorrect context/label\u001b[0m\n"
     ]
    },
    {
     "name": "stdout",
     "output_type": "stream",
     "text": [
      "Processing BAA/['BAA04']/Week04/Walk05...\n"
     ]
    },
    {
     "name": "stderr",
     "output_type": "stream",
     "text": [
      "\u001b[32m2025-06-09 16:30:38.345\u001b[0m | \u001b[1mINFO    \u001b[0m | \u001b[36mrat_trial\u001b[0m:\u001b[36mvalid_static\u001b[0m:\u001b[36m65\u001b[0m - \u001b[1mTrial Static01 is a valid static trial\u001b[0m\n"
     ]
    },
    {
     "name": "stdout",
     "output_type": "stream",
     "text": [
      "Processing BAA/['BAA04']/Week04/Walk07...\n",
      "Processing BAA/['BAA04']/Week08/Static01...\n",
      "Processing BAA/['BAA04']/Week08/Walk05...\n",
      "Processing BAA/['BAA04']/Week08/Walk07...\n"
     ]
    },
    {
     "name": "stderr",
     "output_type": "stream",
     "text": [
      "\u001b[32m2025-06-09 16:30:38.785\u001b[0m | \u001b[1mINFO    \u001b[0m | \u001b[36mrat_trial\u001b[0m:\u001b[36mvalid_walk\u001b[0m:\u001b[36m101\u001b[0m - \u001b[1mTrial Walk08 has events out of order or with incorrect context/label\u001b[0m\n",
      "\u001b[32m2025-06-09 16:30:38.919\u001b[0m | \u001b[1mINFO    \u001b[0m | \u001b[36mrat_trial\u001b[0m:\u001b[36mvalid_walk\u001b[0m:\u001b[36m101\u001b[0m - \u001b[1mTrial Walk12 has events out of order or with incorrect context/label\u001b[0m\n",
      "\u001b[32m2025-06-09 16:30:39.353\u001b[0m | \u001b[1mINFO    \u001b[0m | \u001b[36mrat_trial\u001b[0m:\u001b[36mvalid_static\u001b[0m:\u001b[36m65\u001b[0m - \u001b[1mTrial Static02 is a valid static trial\u001b[0m\n"
     ]
    },
    {
     "name": "stdout",
     "output_type": "stream",
     "text": [
      "Processing BAA/['BAA04']/Week08/Walk14...\n",
      "Processing BAA/['BAA04']/Week08/Walk15...\n",
      "Processing BAA/['BAA04']/Week12/Static02...\n"
     ]
    },
    {
     "name": "stderr",
     "output_type": "stream",
     "text": [
      "\u001b[32m2025-06-09 16:30:39.758\u001b[0m | \u001b[1mINFO    \u001b[0m | \u001b[36mrat_trial\u001b[0m:\u001b[36mvalid_walk\u001b[0m:\u001b[36m85\u001b[0m - \u001b[1mTrial Walk01 has 0 events, expected 7\u001b[0m\n"
     ]
    },
    {
     "name": "stdout",
     "output_type": "stream",
     "text": [
      "Processing BAA/['BAA04']/Week12/Walk02...\n",
      "Processing BAA/['BAA04']/Week12/Walk03...\n"
     ]
    },
    {
     "name": "stderr",
     "output_type": "stream",
     "text": [
      "\u001b[32m2025-06-09 16:30:40.378\u001b[0m | \u001b[1mINFO    \u001b[0m | \u001b[36mrat_trial\u001b[0m:\u001b[36mvalid_walk\u001b[0m:\u001b[36m85\u001b[0m - \u001b[1mTrial Walk04 has 4 events, expected 7\u001b[0m\n",
      "\u001b[32m2025-06-09 16:30:40.528\u001b[0m | \u001b[1mINFO    \u001b[0m | \u001b[36mrat_trial\u001b[0m:\u001b[36mvalid_walk\u001b[0m:\u001b[36m101\u001b[0m - \u001b[1mTrial Walk05 has events out of order or with incorrect context/label\u001b[0m\n",
      "\u001b[32m2025-06-09 16:30:40.714\u001b[0m | \u001b[1mINFO    \u001b[0m | \u001b[36mrat_trial\u001b[0m:\u001b[36mvalid_walk\u001b[0m:\u001b[36m85\u001b[0m - \u001b[1mTrial Walk06 has 0 events, expected 7\u001b[0m\n",
      "\u001b[32m2025-06-09 16:30:40.969\u001b[0m | \u001b[1mINFO    \u001b[0m | \u001b[36mrat_trial\u001b[0m:\u001b[36mvalid_walk\u001b[0m:\u001b[36m85\u001b[0m - \u001b[1mTrial Walk07 has 3 events, expected 7\u001b[0m\n",
      "\u001b[32m2025-06-09 16:30:41.333\u001b[0m | \u001b[1mINFO    \u001b[0m | \u001b[36mrat_trial\u001b[0m:\u001b[36mvalid_walk\u001b[0m:\u001b[36m85\u001b[0m - \u001b[1mTrial Walk09 has 6 events, expected 7\u001b[0m\n",
      "\u001b[32m2025-06-09 16:30:41.653\u001b[0m | \u001b[1mINFO    \u001b[0m | \u001b[36mrat_trial\u001b[0m:\u001b[36mvalid_walk\u001b[0m:\u001b[36m101\u001b[0m - \u001b[1mTrial Walk11 has events out of order or with incorrect context/label\u001b[0m\n"
     ]
    },
    {
     "name": "stdout",
     "output_type": "stream",
     "text": [
      "Processing BAA/['BAA04']/Week12/Walk10...\n"
     ]
    },
    {
     "name": "stderr",
     "output_type": "stream",
     "text": [
      "\u001b[32m2025-06-09 16:30:41.955\u001b[0m | \u001b[1mINFO    \u001b[0m | \u001b[36mrat_trial\u001b[0m:\u001b[36mvalid_static\u001b[0m:\u001b[36m65\u001b[0m - \u001b[1mTrial Static01 is a valid static trial\u001b[0m\n"
     ]
    },
    {
     "name": "stdout",
     "output_type": "stream",
     "text": [
      "Processing BAA/['BAA04']/Week12/Walk12...\n",
      "Processing BAA/['BAA04']/Week18/Static01...\n",
      "Processing BAA/['BAA04']/Week18/Walk02...\n",
      "Processing BAA/['BAA04']/Week18/Walk03...\n",
      "Processing BAA/['BAA04']/Week18/Walk04...\n",
      "Processing BAA/['BAA04']/Week18/Walk05...\n",
      "Processing BAA/['BAA04']/Week18/Walk06...\n",
      "Processing BAA/['BAA04']/Week18/Walk07...\n",
      "Processing BAA/['BAA04']/Week18/Walk08...\n"
     ]
    },
    {
     "name": "stderr",
     "output_type": "stream",
     "text": [
      "\u001b[32m2025-06-09 16:30:43.831\u001b[0m | \u001b[1mINFO    \u001b[0m | \u001b[36mrat_trial\u001b[0m:\u001b[36mvalid_walk\u001b[0m:\u001b[36m85\u001b[0m - \u001b[1mTrial Walk09 has 0 events, expected 7\u001b[0m\n",
      "\u001b[32m2025-06-09 16:30:44.043\u001b[0m | \u001b[1mINFO    \u001b[0m | \u001b[36mrat_trial\u001b[0m:\u001b[36mvalid_walk\u001b[0m:\u001b[36m85\u001b[0m - \u001b[1mTrial Walk10 has 0 events, expected 7\u001b[0m\n"
     ]
    }
   ],
   "source": [
    "from rat_trial import RatTrial\n",
    "from utils import c3d_scan\n",
    "\n",
    "\n",
    "c3d_dir = '/home/hudson/Downloads/TestDB'\n",
    "unscaled_model = '/home/hudson/Rats_Python/opensim/Bilateral/FinalBilateral.osim'\n",
    "marker_set = '/home/hudson/Rats_Python/opensim/Bilateral/bilateral_rodent_hindlimb_markerSet.xml'\n",
    "ik_setup = '/home/hudson/Rats_Python/opensim/Bilateral/generic_Rat_Setup_IK.xml'\n",
    "trc_filter_cutoff = 15 # Hz\n",
    "ik_filter_cutoff = 15 # Hz\n",
    "\n",
    "output_dir = '/home/hudson/Downloads/TestOut'\n",
    "\n",
    "## Need to make sure that model gets scaled first before doing anything else\n",
    "# Sorting alphabetically makes sure that directories are done together and static trial is first\n",
    "c3d_files = sorted(c3d_scan(c3d_dir)) \n",
    "print(f'Found {len(c3d_files)} C3D files.')\n",
    "model_file = None\n",
    "for c3d_file in c3d_files:\n",
    "    trial = RatTrial.from_c3d_file(c3d_file)\n",
    "\n",
    "    if not trial.validate_trial():\n",
    "        continue\n",
    "    print(f'Processing {trial.classification}/{trial.subject_names}/{trial.session_name}/{trial.name}...')\n",
    "    # trc_file = trial.to_trc()\n",
    "    # # If static\n",
    "    # if trial.trial_type == 'Static':\n",
    "    #     # Scale model\n",
    "    #     model_file = trial.create_scaled_model()\n",
    "    # # Else\n",
    "    # else:\n",
    "    #     # IK - filter TRC data\n",
    "    #     trial.inverse_kinematics()\n",
    "    #     # ID\n",
    "    #     trial.inverse_dynamics()"
   ]
  },
  {
   "cell_type": "code",
   "execution_count": 2,
   "id": "2f45ef88",
   "metadata": {},
   "outputs": [],
   "source": [
    "# Define groups\n",
    "NR = []\n",
    "TEMR = []\n",
    "HH = []\n",
    "TEMR_HH = []\n",
    "KG = []\n",
    "HS = []\n",
    "TEMR_KG = []\n",
    "\n",
    "\n",
    "\n"
   ]
  }
 ],
 "metadata": {
  "kernelspec": {
   "display_name": "mamp-python",
   "language": "python",
   "name": "python3"
  },
  "language_info": {
   "codemirror_mode": {
    "name": "ipython",
    "version": 3
   },
   "file_extension": ".py",
   "mimetype": "text/x-python",
   "name": "python",
   "nbconvert_exporter": "python",
   "pygments_lexer": "ipython3",
   "version": "3.11.6"
  }
 },
 "nbformat": 4,
 "nbformat_minor": 5
}
