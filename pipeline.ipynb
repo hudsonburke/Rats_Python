{
 "cells": [
  {
   "cell_type": "code",
   "execution_count": null,
   "id": "cde566a6",
   "metadata": {},
   "outputs": [],
   "source": [
    "\n",
    "from ..Toolbox_Python.utils import c3d_scan\n",
    "from rat_trial import RatTrial\n",
    "\n",
    "\n",
    "c3d_dir = '/home/hudson/Downloads/TestDB'\n",
    "unscaled_model = '/home/hudson/Rats_Python/opensim/Bilateral/FinalBilateral.osim'\n",
    "marker_set = '/home/hudson/Rats_Python/opensim/Bilateral/bilateral_rodent_hindlimb_markerSet.xml'\n",
    "ik_setup = '/home/hudson/Rats_Python/opensim/Bilateral/generic_Rat_Setup_IK.xml'\n",
    "trc_filter_cutoff = 15 # Hz\n",
    "ik_filter_cutoff = 15 # Hz\n",
    "\n",
    "output_dir = '/home/hudson/Downloads/TestOut'\n",
    "\n",
    "## Need to make sure that model gets scaled first before doing anything else\n",
    "# Sorting alphabetically makes sure that directories are done together and static trial is first\n",
    "c3d_files = sorted(c3d_scan(c3d_dir)) \n",
    "model_file = None\n",
    "for c3d_file in c3d_files:\n",
    "    trial = RatTrial.from_c3d_file(c3d_file)\n",
    "    if not trial.validate_trial():\n",
    "        continue\n",
    "    print(f'Processing {trial.classification}/{trial.subject_names}/{trial.session_name}/{trial.name}...')\n",
    "    trc_file = trial.to_trc()\n",
    "    # If static\n",
    "    if trial.trial_type == 'Static':\n",
    "        # Scale model\n",
    "        model_file = trial.scale_model()\n",
    "    # Else\n",
    "    else:\n",
    "        # IK - filter TRC data\n",
    "        trial.inverse_kinematics()\n",
    "        # ID\n",
    "        trial.inverse_dynamics()\n",
    "\n"
   ]
  }
 ],
 "metadata": {
  "kernelspec": {
   "display_name": "mamp-python",
   "language": "python",
   "name": "python3"
  },
  "language_info": {
   "name": "python",
   "version": "3.11.6"
  }
 },
 "nbformat": 4,
 "nbformat_minor": 5
}
