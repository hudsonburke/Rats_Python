{
 "cells": [
  {
   "cell_type": "code",
   "execution_count": 1,
   "id": "25fde0c3",
   "metadata": {},
   "outputs": [
    {
     "name": "stderr",
     "output_type": "stream",
     "text": [
      "\u001b[32m2025-06-26 15:26:09.192\u001b[0m | \u001b[33m\u001b[1mWARNING \u001b[0m | \u001b[36mtrial\u001b[0m:\u001b[36mfrom_c3d\u001b[0m:\u001b[36m537\u001b[0m - \u001b[33m\u001b[1mCamera rate None does not match points rate 100.0 in header\u001b[0m\n"
     ]
    }
   ],
   "source": [
    "from trial import Trial\n",
    "import os\n",
    "import numpy as np\n",
    "R = np.array([[1, 0, 0],\n",
    "              [0, 0, 1],\n",
    "              [0, -1, 0]])\n",
    "c3d_file = \"data/S02_static_000.c3d\"\n",
    "trial = Trial.from_c3d_file(c3d_file)\n",
    "trial.to_trc(c3d_file.replace(\".c3d\", \".trc\"),\n",
    "             rotation=R\n",
    "             )\n",
    "trial.export_force_platforms(output_dir=os.path.dirname(c3d_file),\n",
    "                             applied_bodies={1: \"cal_r\"},\n",
    "                             rotation=R,\n",
    "                             )"
   ]
  }
 ],
 "metadata": {
  "kernelspec": {
   "display_name": "mamp-python",
   "language": "python",
   "name": "python3"
  },
  "language_info": {
   "codemirror_mode": {
    "name": "ipython",
    "version": 3
   },
   "file_extension": ".py",
   "mimetype": "text/x-python",
   "name": "python",
   "nbconvert_exporter": "python",
   "pygments_lexer": "ipython3",
   "version": "3.11.6"
  }
 },
 "nbformat": 4,
 "nbformat_minor": 5
}
